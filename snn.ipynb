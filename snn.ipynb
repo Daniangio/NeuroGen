{
 "cells": [
  {
   "cell_type": "code",
   "execution_count": 1,
   "metadata": {},
   "outputs": [],
   "source": [
    "# imports\n",
    "import snntorch as snn\n",
    "from snntorch import spikeplot as splt\n",
    "from snntorch import spikegen\n",
    "\n",
    "import torch\n",
    "import torch.nn as nn\n",
    "\n",
    "import numpy as np\n",
    "import matplotlib.pyplot as plt"
   ]
  },
  {
   "cell_type": "code",
   "execution_count": 2,
   "metadata": {},
   "outputs": [],
   "source": [
    "num_steps = 100\n",
    "U = 0.9\n",
    "U_trace = []  # keeps a record of U for plotting\n",
    "\n",
    "time_step = 1e-3\n",
    "R = 5\n",
    "C = 1e-3\n",
    "\n",
    "# leaky integrate and fire neuron, tau=5e-3\n",
    "lif1 = snn.Lapicque(R=R, C=C, time_step=time_step)"
   ]
  },
  {
   "cell_type": "code",
   "execution_count": 3,
   "metadata": {},
   "outputs": [],
   "source": [
    "# Initialize membrane, input, and output\n",
    "mem = torch.ones(1) * 0.9  # U=0.9 at t=0\n",
    "cur_in = torch.zeros(num_steps, 1)  # I=0 for all t \n",
    "spk_out = torch.zeros(1)  # initialize output spikes\n",
    "\n",
    "# A list to store recordings of membrane potential\n",
    "mem_rec = [mem]"
   ]
  },
  {
   "cell_type": "code",
   "execution_count": null,
   "metadata": {},
   "outputs": [],
   "source": [
    "# pass updated value of mem and cur_in[step]=0 at every time step\n",
    "for step in range(num_steps):\n",
    "  spk_out, mem = lif1(cur_in[step], mem)\n",
    "\n",
    "  # Store recordings of membrane potential\n",
    "  mem_rec.append(mem)\n",
    "\n",
    "# crunch the list of tensors into one tensor\n",
    "mem_rec = torch.stack(mem_rec)"
   ]
  },
  {
   "cell_type": "code",
   "execution_count": null,
   "metadata": {},
   "outputs": [],
   "source": [
    "plt.plot(mem_rec)"
   ]
  },
  {
   "cell_type": "code",
   "execution_count": 21,
   "metadata": {},
   "outputs": [],
   "source": []
  },
  {
   "cell_type": "code",
   "execution_count": null,
   "metadata": {},
   "outputs": [],
   "source": [
    "num_steps = 200\n",
    "\n",
    "# Initialize input current pulse\n",
    "cur_in = torch.cat((torch.zeros(10, 1), torch.ones(150, 1)*0.1, torch.zeros(40, 1)), 0)  # input current turns on at t=10\n",
    "\n",
    "# Initialize membrane, output and recordings\n",
    "mem = torch.zeros(1)  # membrane potential of 0 at t=0\n",
    "spk_out = torch.zeros(1)  # neuron needs somewhere to sequentially dump its output spikes\n",
    "mem_rec = [mem]\n",
    "\n",
    "# pass updated value of mem and cur_in[step] at every time step\n",
    "for step in range(num_steps):\n",
    "  spk_out, mem = lif1(cur_in[step], mem)\n",
    "  mem_rec.append(mem)\n",
    "\n",
    "# crunch -list- of tensors into one tensor\n",
    "mem_rec = torch.stack(mem_rec)\n",
    "\n",
    "\n",
    "# Increase amplitude of current pulse; half the time.\n",
    "cur_in2 = torch.cat((torch.zeros(10, 1), torch.ones(10, 1)*10.9, torch.zeros(180, 1)), 0)  # input turns on at t=10, off at t=20\n",
    "mem = torch.zeros(1)\n",
    "spk_out = torch.zeros(1)\n",
    "mem_rec2 = [mem]\n",
    "\n",
    "# neuron simulation\n",
    "for step in range(num_steps):\n",
    "  spk_out, mem = lif1(cur_in2[step], mem)\n",
    "  mem_rec2.append(mem)\n",
    "mem_rec2 = torch.stack(mem_rec2)\n",
    "\n",
    "plt.plot(cur_in2)\n",
    "plt.plot(mem_rec2)"
   ]
  }
 ],
 "metadata": {
  "kernelspec": {
   "display_name": "neurogen",
   "language": "python",
   "name": "python3"
  },
  "language_info": {
   "codemirror_mode": {
    "name": "ipython",
    "version": 3
   },
   "file_extension": ".py",
   "mimetype": "text/x-python",
   "name": "python",
   "nbconvert_exporter": "python",
   "pygments_lexer": "ipython3",
   "version": "3.13.1"
  }
 },
 "nbformat": 4,
 "nbformat_minor": 2
}
