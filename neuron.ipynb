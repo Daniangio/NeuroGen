{
 "cells": [
  {
   "cell_type": "code",
   "execution_count": 1,
   "metadata": {},
   "outputs": [],
   "source": [
    "from neurogen.model import NeuralNetwork, InputNeuron\n",
    "import numpy as np"
   ]
  },
  {
   "cell_type": "code",
   "execution_count": 2,
   "metadata": {},
   "outputs": [],
   "source": [
    "dt = 0.01\n",
    "\n",
    "nn = NeuralNetwork(1)\n",
    "\n",
    "in1 = InputNeuron(0, 0.0).connect(nn.neurons[0], -1)\n",
    "# nn.plot()"
   ]
  },
  {
   "cell_type": "code",
   "execution_count": 5,
   "metadata": {},
   "outputs": [],
   "source": [
    "Vs_dict = {}\n",
    "n_dict = {}\n",
    "m_dict = {}\n",
    "h_dict = {}\n",
    "I_Na_dict = {}\n",
    "I_K_dict = {}\n",
    "\n",
    "def record(n, attr, d: dict):\n",
    "    ls = d.get(n.idx, [])\n",
    "    ls.append(getattr(n, attr))\n",
    "    d[n.idx] = ls\n",
    "\n",
    "ms = 15\n",
    "steps = np.arange(ms // dt)\n",
    "t = steps * dt\n",
    "for step in steps:\n",
    "    if step == 10:\n",
    "        in1.set_current(500.0)\n",
    "    if step == 20:\n",
    "        in1.set_current(0.0)\n",
    "    if step == 800:\n",
    "        in1.set_current(500.0)\n",
    "    if step == 810:\n",
    "        in1.set_current(0.0)\n",
    "    nn.step(dt)\n",
    "    for n in nn.neurons:\n",
    "        record(n, 'V', Vs_dict)\n",
    "        record(n, 'm', m_dict)\n",
    "        record(n, 'n', n_dict)\n",
    "        record(n, 'h', h_dict)\n",
    "        record(n, 'I_Na', I_Na_dict)\n",
    "        record(n, 'I_K', I_K_dict)"
   ]
  },
  {
   "cell_type": "code",
   "execution_count": null,
   "metadata": {},
   "outputs": [],
   "source": [
    "from matplotlib import pyplot as plt\n",
    "\n",
    "for idx, Vs in Vs_dict.items():\n",
    "    plt.plot(t, Vs, label=f'Neuron {idx}')\n",
    "    window_size = 100\n",
    "    avg_V = [sum(Vs[i:i+window_size]) / window_size for i in range(0, len(Vs), window_size)]\n",
    "    # plt.plot(range(0, len(Vs), window_size), avg_V, 'r--', label=f'Avg V Neuron {idx}')\n",
    "\n",
    "plt.legend()\n",
    "plt.show()\n",
    "\n",
    "for idx, (m, n, h) in enumerate(zip(m_dict.values(), n_dict.values(), h_dict.values())):\n",
    "    plt.plot(t, m, label=f'm Neuron {idx}')\n",
    "    plt.plot(t, n, label=f'n Neuron {idx}')\n",
    "    plt.plot(t, h, label=f'h Neuron {idx}')\n",
    "\n",
    "plt.legend()\n",
    "plt.show()\n",
    "\n",
    "for idx, (I_Na, I_K) in enumerate(zip(I_Na_dict.values(), I_K_dict.values())):\n",
    "    plt.plot(t, I_Na, label=f'I_Na Neuron {idx}')\n",
    "    plt.plot(t, I_K, label=f'I_K Neuron {idx}')\n",
    "\n",
    "plt.legend()\n",
    "plt.show()"
   ]
  },
  {
   "cell_type": "code",
   "execution_count": null,
   "metadata": {},
   "outputs": [],
   "source": []
  }
 ],
 "metadata": {
  "kernelspec": {
   "display_name": "neurogen",
   "language": "python",
   "name": "python3"
  },
  "language_info": {
   "codemirror_mode": {
    "name": "ipython",
    "version": 3
   },
   "file_extension": ".py",
   "mimetype": "text/x-python",
   "name": "python",
   "nbconvert_exporter": "python",
   "pygments_lexer": "ipython3",
   "version": "3.13.1"
  }
 },
 "nbformat": 4,
 "nbformat_minor": 2
}
