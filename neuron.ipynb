{
 "cells": [
  {
   "cell_type": "code",
   "execution_count": 1,
   "metadata": {},
   "outputs": [],
   "source": [
    "from neurogen.model import NeuralNetwork, InputNeuron\n",
    "from matplotlib import pyplot as plt\n",
    "import numpy as np"
   ]
  },
  {
   "cell_type": "code",
   "execution_count": 2,
   "metadata": {},
   "outputs": [],
   "source": [
    "def run():\n",
    "    dt = 0.01\n",
    "\n",
    "    nn = NeuralNetwork(1)\n",
    "\n",
    "    in1 = InputNeuron(0, 0.0).connect(nn.neurons[0], -1)\n",
    "    # nn.plot()\n",
    "\n",
    "    Vs_dict = {}\n",
    "    I_Na_dict = {}\n",
    "    I_K_dict = {}\n",
    "\n",
    "    def record(n, attr, d: dict):\n",
    "        ls = d.get(n.idx, [])\n",
    "        ls.append(getattr(n, attr))\n",
    "        d[n.idx] = ls\n",
    "\n",
    "    ms = 10\n",
    "    steps = np.arange(ms // dt)\n",
    "    t = steps * dt\n",
    "    for step in steps:\n",
    "        if step == 10:\n",
    "            in1.set_current(500.0)\n",
    "        # if step == 200:\n",
    "        #     in1.set_current(0.0)\n",
    "        # if step == 800:\n",
    "        #     in1.set_current(500.0)\n",
    "        # if step == 810:\n",
    "        #     in1.set_current(0.0)\n",
    "        nn.step(dt)\n",
    "        for n in nn.neurons:\n",
    "            record(n, 'V', Vs_dict)\n",
    "            record(n, 'm', I_Na_dict)\n",
    "            record(n, 'n', I_K_dict)\n",
    "\n",
    "    def plot():\n",
    "        for idx, Vs in Vs_dict.items():\n",
    "            plt.plot(t, Vs, label=f'Neuron {idx}')\n",
    "\n",
    "        plt.legend()\n",
    "        plt.show()\n",
    "\n",
    "        for idx, (I_Na, I_K) in enumerate(zip(I_Na_dict.values(), I_K_dict.values())):\n",
    "            plt.plot(t, I_Na, label=f'I_Na Neuron {idx}')\n",
    "            plt.plot(t, I_K, label=f'I_K Neuron {idx}')\n",
    "\n",
    "        plt.legend()\n",
    "        plt.show()\n",
    "    \n",
    "    plot()\n",
    "    return Vs_dict"
   ]
  },
  {
   "cell_type": "code",
   "execution_count": null,
   "metadata": {},
   "outputs": [],
   "source": [
    "v = run()"
   ]
  }
 ],
 "metadata": {
  "kernelspec": {
   "display_name": "neurogen",
   "language": "python",
   "name": "python3"
  },
  "language_info": {
   "codemirror_mode": {
    "name": "ipython",
    "version": 3
   },
   "file_extension": ".py",
   "mimetype": "text/x-python",
   "name": "python",
   "nbconvert_exporter": "python",
   "pygments_lexer": "ipython3",
   "version": "3.13.1"
  }
 },
 "nbformat": 4,
 "nbformat_minor": 2
}
